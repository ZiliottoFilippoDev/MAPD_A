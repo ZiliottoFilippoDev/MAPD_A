{
 "cells": [
  {
   "cell_type": "markdown",
   "metadata": {
    "id": "sQ6Ncofpmag7"
   },
   "source": [
    "# FIR FILTER DI MERDA\n",
    "\n"
   ]
  },
  {
   "cell_type": "markdown",
   "metadata": {
    "id": "PND8gAvlmW4w"
   },
   "source": [
    "![Fir Filter](https://surf-vhdl.com/wp/wp-content/uploads/2015/11/fir_filter4_architecture.jpg)"
   ]
  },
  {
   "cell_type": "code",
   "execution_count": 6,
   "metadata": {
    "executionInfo": {
     "elapsed": 7249,
     "status": "ok",
     "timestamp": 1617872348862,
     "user": {
      "displayName": "Michele Avella",
      "photoUrl": "",
      "userId": "16843172844337396555"
     },
     "user_tz": -120
    },
    "id": "PPaExwa-l89o"
   },
   "outputs": [],
   "source": [
    "import numpy as np\n",
    "import matplotlib.pyplot as plt\n",
    "from tqdm import tqdm\n",
    "from bitstring import Bits"
   ]
  },
  {
   "cell_type": "code",
   "execution_count": 7,
   "metadata": {
    "executionInfo": {
     "elapsed": 7246,
     "status": "ok",
     "timestamp": 1617872348863,
     "user": {
      "displayName": "Michele Avella",
      "photoUrl": "",
      "userId": "16843172844337396555"
     },
     "user_tz": -120
    },
    "id": "RRMtR3aSme_3"
   },
   "outputs": [],
   "source": [
    "class fir_filter:     \n",
    "    def __init__(self, coeff):\n",
    "        self.c = np.array(coeff)\n",
    "        self.x = np.zeros(len(coeff))\n",
    "    def status(self):\n",
    "        print('Coeff: ',self.c)\n",
    "        print('x stored: ',self.x)\n",
    "    def run(self,x):\n",
    "        self.x=np.append(x,self.x)[:-1]\n",
    "        return np.sum(self.x*self.c)\n",
    "    def reset(self):\n",
    "        self.x = np.zeros(len(self.c))\n",
    "\n",
    "\n",
    "def cut_output(n):\n",
    "    b = Bits(int=n, length=19)\n",
    "    c = Bits(bin=b.bin[:8])\n",
    "    return c.bin,c.int\n"
   ]
  },
  {
   "cell_type": "code",
   "execution_count": 8,
   "metadata": {
    "colab": {
     "base_uri": "https://localhost:8080/"
    },
    "executionInfo": {
     "elapsed": 8322,
     "status": "ok",
     "timestamp": 1617872349948,
     "user": {
      "displayName": "Michele Avella",
      "photoUrl": "",
      "userId": "16843172844337396555"
     },
     "user_tz": -120
    },
    "id": "n6BgBUBdC3Qd",
    "outputId": "0f43fa8e-2406-4fd0-c1f2-785ae5bb8f0f"
   },
   "outputs": [
    {
     "name": "stdout",
     "output_type": "stream",
     "text": [
      "Coeff:  [245 254 254 245]\n",
      "x stored:  [0. 0. 0. 0.]\n"
     ]
    }
   ],
   "source": [
    "c=[245, 254, 254, 245]\n",
    "\n",
    "ff=fir_filter(c)\n",
    "ff.status()"
   ]
  },
  {
   "cell_type": "markdown",
   "metadata": {
    "id": "1e49ErkpEHx9"
   },
   "source": [
    "## Filter example"
   ]
  },
  {
   "cell_type": "code",
   "execution_count": 8,
   "metadata": {
    "colab": {
     "base_uri": "https://localhost:8080/"
    },
    "executionInfo": {
     "elapsed": 1121,
     "status": "ok",
     "timestamp": 1617873042276,
     "user": {
      "displayName": "Michele Avella",
      "photoUrl": "",
      "userId": "16843172844337396555"
     },
     "user_tz": -120
    },
    "id": "Ta1sg7sYELAK",
    "outputId": "c1640e1a-300d-44e7-dbaa-375b90de2dc5"
   },
   "outputs": [
    {
     "name": "stdout",
     "output_type": "stream",
     "text": [
      "Output: \n",
      "0.0\n",
      "-15588.644338295528\n",
      "-40213.48991362224\n",
      "-62619.281446178065\n",
      "-71992.3805472797\n",
      "-48459.98918422278\n",
      "-2778.0356053777214\n",
      "44173.672125600366\n",
      "70934.960594901\n",
      "65274.0725548686\n",
      "29778.424840505908\n",
      "-19328.019838452426\n",
      "-59600.22445408097\n",
      "-72631.00987330574\n",
      "-52464.40711589282\n",
      "-8317.946560528882\n",
      "39630.390098225085\n",
      "69464.90118884669\n",
      "67549.15445652872\n",
      "34758.77847964042\n",
      "-13918.760070743665\n",
      "-56234.46389224306\n",
      "-72847.13356906602\n",
      "-56163.631612504105\n",
      "-13809.470755531658\n",
      "34856.57206459934\n",
      "67590.75388825066\n",
      "69431.29265373862\n",
      "39536.9350181918\n",
      "-8428.53275891746\n",
      "Real Output: \n",
      "('00000000', 0)\n",
      "('11111000', -8)\n",
      "('11101100', -20)\n",
      "('11100001', -31)\n",
      "('11011100', -36)\n",
      "('11101000', -24)\n",
      "('11111110', -2)\n",
      "('00010101', 21)\n",
      "('00100010', 34)\n",
      "('00011111', 31)\n",
      "('00001110', 14)\n",
      "('11110110', -10)\n",
      "('11100010', -30)\n",
      "('11011100', -36)\n",
      "('11100110', -26)\n",
      "('11111011', -5)\n",
      "('00010011', 19)\n",
      "('00100001', 33)\n",
      "('00100000', 32)\n",
      "('00010000', 16)\n",
      "('11111001', -7)\n",
      "('11100100', -28)\n",
      "('11011100', -36)\n",
      "('11100100', -28)\n",
      "('11111001', -7)\n",
      "('00010001', 17)\n",
      "('00100001', 33)\n",
      "('00100001', 33)\n",
      "('00010011', 19)\n",
      "('11111011', -5)\n"
     ]
    }
   ],
   "source": [
    "#input data\n",
    "\n",
    "data=-100*np.sin(np.linspace(0,20,30))\n",
    "\n",
    "ff.reset()\n",
    "l=[]\n",
    "for i in data:\n",
    "    l.append(ff.run(i))\n",
    "\n",
    "print('Output: ')\n",
    "for n in l:\n",
    "    print(n)\n",
    "\n",
    "print('Real Output: ')\n",
    "for n in l:\n",
    "    print(cut_output(int(n)))"
   ]
  },
  {
   "cell_type": "code",
   "execution_count": 11,
   "metadata": {
    "colab": {
     "base_uri": "https://localhost:8080/",
     "height": 563
    },
    "executionInfo": {
     "elapsed": 1170,
     "status": "ok",
     "timestamp": 1617873741833,
     "user": {
      "displayName": "Michele Avella",
      "photoUrl": "",
      "userId": "16843172844337396555"
     },
     "user_tz": -120
    },
    "id": "rKoPjOAkZPIK",
    "outputId": "910b2a19-da14-4990-a567-4276ced89c90"
   },
   "outputs": [
    {
     "name": "stderr",
     "output_type": "stream",
     "text": [
      "100%|██████████| 100/100 [00:00<00:00, 14125.09it/s]"
     ]
    },
    {
     "name": "stdout",
     "output_type": "stream",
     "text": [
      "[  0  14   6  39  29  38  44  69  69  67  63  55  25  13  21 -13 -27 -41\n",
      " -54 -65 -75 -83 -88 -90 -69 -87 -60 -51 -62 -49 -15 -22  -8  26  17  49\n",
      "  37  44  47  69  68  63  35  47  35   1   9 -25 -18 -52 -43 -53 -61 -67\n",
      " -90 -69 -87 -60 -52 -63 -51 -16 -23  -9  24  37  48  36  43  47  69  68\n",
      "  64  57  48  36  24 -10  -3 -38 -30 -63 -52 -82 -87 -90 -90 -87 -82 -74\n",
      " -64 -31 -18  -4 -11  23  15  26  56  63]\n",
      "[  0   1   2   7  10  13  18  21  26  30  32  30  25  19  13   5  -1  -8\n",
      " -17 -23 -29 -34 -38 -41 -41 -41 -38 -33 -32 -28 -22 -18 -12  -3   1  10\n",
      "  15  17  21  23  27  30  28  25  21  14  11   2  -5 -11 -17 -21 -26 -28\n",
      " -33 -36 -39 -38 -33 -32 -28 -23 -19 -13  -4   3  12  17  19  21  23  27\n",
      "  30  31  28  24  20  11   5  -4 -10 -17 -23 -28 -35 -38 -43 -44 -43 -41\n",
      " -38 -31 -23 -15  -8  -2   2   6  14  19]\n"
     ]
    },
    {
     "name": "stderr",
     "output_type": "stream",
     "text": [
      "\n"
     ]
    },
    {
     "data": {
      "text/plain": [
       "<matplotlib.legend.Legend at 0x7f8f0b386b50>"
      ]
     },
     "execution_count": 11,
     "metadata": {
      "tags": []
     },
     "output_type": "execute_result"
    },
    {
     "data": {
      "image/png": "[encoded data removed]",
      "text/plain": [
       "<Figure size 720x360 with 1 Axes>"
      ]
     },
     "metadata": {
      "needs_background": "light",
      "tags": []
     },
     "output_type": "display_data"
    }
   ],
   "source": [
    "np.random.seed(1234)\n",
    "\n",
    "x=70*(np.sin(np.linspace(0,20,100))+0.3*(np.random.randint(-1,1,100)))\n",
    "#x=50+20*(np.sin(np.linspace(0,20,100)))\n",
    "x=x.astype(int)\n",
    "print(x)\n",
    "l=[]\n",
    "ff.reset()\n",
    "for i in tqdm(x) :\n",
    "    ou=cut_output(int(ff.run(i)))\n",
    "    l.append(ou[1])\n",
    "l=np.array(l)\n",
    "print(l)\n",
    "plt.figure(figsize=(10,5))\n",
    "plt.plot(l,label='out')\n",
    "plt.plot(x,label='in')\n",
    "plt.legend()"
   ]
  },
  {
   "cell_type": "code",
   "execution_count": null,
   "metadata": {
    "colab": {
     "base_uri": "https://localhost:8080/"
    },
    "executionInfo": {
     "elapsed": 786,
     "status": "ok",
     "timestamp": 1617820371319,
     "user": {
      "displayName": "Michele Avella",
      "photoUrl": "",
      "userId": "16843172844337396555"
     },
     "user_tz": -120
    },
    "id": "-guJCWDHmTLw",
    "outputId": "640ed3a6-6c44-406d-c0d9-04ad580f11bc"
   },
   "outputs": [
    {
     "name": "stdout",
     "output_type": "stream",
     "text": [
      "[12250. 25930. 40381. 55389.]\n",
      "[50 54 57 61]\n"
     ]
    }
   ],
   "source": [
    "print(l[:4])\n",
    "print(x[:4])"
   ]
  },
  {
   "cell_type": "markdown",
   "metadata": {
    "id": "_zA5rpMYC0mI"
   },
   "source": [
    "## Risposta in frequenza\n"
   ]
  },
  {
   "cell_type": "code",
   "execution_count": 20,
   "metadata": {
    "id": "drCOOVfK0MT3"
   },
   "outputs": [],
   "source": [
    "def signal(f):\n",
    "    return (100*np.sin(f*np.linspace(0,20,100))).astype(int)\n",
    "\n",
    "def filter_signal(s):\n",
    "    c=[245, 254, 254, 245]\n",
    "    ff=fir_filter(c)\n",
    "    ff.reset()\n",
    "    l=[]\n",
    "    for i in s:\n",
    "        l.append(ff.run(i))\n",
    "\n",
    "    for i in range(len(l)):\n",
    "        l[i]=cut_output(int(l[i]))[1]\n",
    "    \n",
    "    return l"
   ]
  },
  {
   "cell_type": "code",
   "execution_count": 48,
   "metadata": {},
   "outputs": [
    {
     "name": "stderr",
     "output_type": "stream",
     "text": [
      "<ipython-input-48-9efde38560bf>:6: RuntimeWarning: invalid value encountered in long_scalars\n",
      "  risposta.append(max(out)/max(s))\n"
     ]
    },
    {
     "data": {
      "image/png": "[encoded data removed]",
      "text/plain": [
       "<Figure size 432x288 with 1 Axes>"
      ]
     },
     "metadata": {
      "needs_background": "light"
     },
     "output_type": "display_data"
    }
   ],
   "source": [
    "fr_list = [0.4 + 0.1*i for i in range(500)]\n",
    "risposta = []\n",
    "for f in (fr_list):\n",
    "    s = signal(f)\n",
    "    out = filter_signal(s)\n",
    "    risposta.append(max(out)/max(s))\n",
    "    \n",
    "plt.plot(fr_list,risposta)\n",
    "plt.xlabel('frequencies')\n",
    "plt.ylabel(r'$\\frac{max(out)}{max(in)}$')\n",
    "plt.savefig('../img/sim_risposta_in_frequenza.png',dpi=300)"
   ]
  },
  {
   "cell_type": "code",
   "execution_count": null,
   "metadata": {},
   "outputs": [],
   "source": []
  }
 ],
 "metadata": {
  "colab": {
   "authorship_tag": "ABX9TyNJ9OcEHFoeCvGipV4mxkZ1",
   "collapsed_sections": [],
   "name": "Fir_Filter.ipynb",
   "provenance": []
  },
  "kernelspec": {
   "display_name": "Python 3",
   "language": "python",
   "name": "python3"
  },
  "language_info": {
   "codemirror_mode": {
    "name": "ipython",
    "version": 3
   },
   "file_extension": ".py",
   "mimetype": "text/x-python",
   "name": "python",
   "nbconvert_exporter": "python",
   "pygments_lexer": "ipython3",
   "version": "3.8.8"
  }
 },
 "nbformat": 4,
 "nbformat_minor": 1
}
